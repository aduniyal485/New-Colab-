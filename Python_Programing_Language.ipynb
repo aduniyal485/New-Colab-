{
  "nbformat": 4,
  "nbformat_minor": 0,
  "metadata": {
    "colab": {
      "name": "Python Programing Language.ipynb",
      "provenance": [],
      "collapsed_sections": [],
      "authorship_tag": "ABX9TyP61nXNbxwjp55ellVsZtpe",
      "include_colab_link": true
    },
    "kernelspec": {
      "name": "python3",
      "display_name": "Python 3"
    },
    "language_info": {
      "name": "python"
    }
  },
  "cells": [
    {
      "cell_type": "markdown",
      "metadata": {
        "id": "view-in-github",
        "colab_type": "text"
      },
      "source": [
        "<a href=\"https://colab.research.google.com/github/aduniyal485/New-Colab-/blob/main/Python_Programing_Language.ipynb\" target=\"_parent\"><img src=\"https://colab.research.google.com/assets/colab-badge.svg\" alt=\"Open In Colab\"/></a>"
      ]
    },
    {
      "cell_type": "code",
      "metadata": {
        "colab": {
          "base_uri": "https://localhost:8080/"
        },
        "id": "OVVn6Qxb_4TE",
        "outputId": "c4750377-672f-4f48-fd79-d130e9387bcb"
      },
      "source": [
        "i = 0\n",
        "while i < 5:\n",
        "  print(i)\n",
        "  i += 1\n"
      ],
      "execution_count": null,
      "outputs": [
        {
          "output_type": "stream",
          "text": [
            "0\n",
            "1\n",
            "2\n",
            "3\n",
            "4\n"
          ],
          "name": "stdout"
        }
      ]
    },
    {
      "cell_type": "markdown",
      "metadata": {
        "id": "GuT_sS4jIpXg"
      },
      "source": [
        "Python Variable"
      ]
    },
    {
      "cell_type": "code",
      "metadata": {
        "colab": {
          "base_uri": "https://localhost:8080/"
        },
        "id": "e6Pjmwf7IrwR",
        "outputId": "39521f1c-5c91-4163-8763-df85b1a4fee4"
      },
      "source": [
        "x = 1\n",
        "this_is_a_variable = 2\n",
        "print(this_is_a_variable)\n",
        "_x=4\n",
        "print(_x)"
      ],
      "execution_count": null,
      "outputs": [
        {
          "output_type": "stream",
          "text": [
            "2\n",
            "4\n"
          ],
          "name": "stdout"
        }
      ]
    },
    {
      "cell_type": "code",
      "metadata": {
        "colab": {
          "base_uri": "https://localhost:8080/"
        },
        "id": "LgZpKZ3yM7qs",
        "outputId": "34073f85-62f0-4e41-fe8e-5ae78988fae8"
      },
      "source": [
        "a = 1\n",
        "b = 3\n",
        "c = a + b\n",
        "print(a+b)\n"
      ],
      "execution_count": null,
      "outputs": [
        {
          "output_type": "stream",
          "text": [
            "4\n"
          ],
          "name": "stdout"
        }
      ]
    },
    {
      "cell_type": "markdown",
      "metadata": {
        "id": "Q_TScjI9NFsU"
      },
      "source": [
        "Assignmert operator"
      ]
    },
    {
      "cell_type": "code",
      "metadata": {
        "colab": {
          "base_uri": "https://localhost:8080/"
        },
        "id": "xPLVkSQ-NFQe",
        "outputId": "dc3277a2-46fd-4f62-8e7f-25f85dbcb356"
      },
      "source": [
        "u = 5\n",
        "u = u + 5 \n",
        "#or\n",
        "u += 5  \n",
        "print(u)"
      ],
      "execution_count": null,
      "outputs": [
        {
          "output_type": "stream",
          "text": [
            "15\n"
          ],
          "name": "stdout"
        }
      ]
    },
    {
      "cell_type": "markdown",
      "metadata": {
        "id": "pyv4RAamOGRC"
      },
      "source": [
        "# Comparison Operator"
      ]
    },
    {
      "cell_type": "code",
      "metadata": {
        "colab": {
          "base_uri": "https://localhost:8080/"
        },
        "id": "kdlLy93LOJPB",
        "outputId": "21462f5f-fe5a-4d60-b120-f319646d8771"
      },
      "source": [
        "a = 2\n",
        "b = 3\n",
        "print(a==b)\n",
        "print(a<b)\n",
        "print(a>b)"
      ],
      "execution_count": null,
      "outputs": [
        {
          "output_type": "stream",
          "text": [
            "False\n",
            "True\n",
            "False\n"
          ],
          "name": "stdout"
        }
      ]
    },
    {
      "cell_type": "markdown",
      "metadata": {
        "id": "OPHG0EHrO6QV"
      },
      "source": [
        "# Python logical operator\n"
      ]
    },
    {
      "cell_type": "code",
      "metadata": {
        "colab": {
          "base_uri": "https://localhost:8080/"
        },
        "id": "0dp8YFEFSAig",
        "outputId": "01d4f117-8b60-4638-e55d-3b8ab2e4ec8c"
      },
      "source": [
        "a = 3\n",
        "b = 5\n",
        "c = 7\n",
        "d = 8\n",
        "if a < b or c > d:\n",
        "    print(\"true\")\n",
        "if a < b and d > c:\n",
        "    print(\"false\")"
      ],
      "execution_count": null,
      "outputs": [
        {
          "output_type": "stream",
          "text": [
            "true\n",
            "false\n"
          ],
          "name": "stdout"
        }
      ]
    },
    {
      "cell_type": "markdown",
      "metadata": {
        "id": "J1Q8TvTcSlI7"
      },
      "source": [
        "# Python Collection"
      ]
    },
    {
      "cell_type": "code",
      "metadata": {
        "colab": {
          "base_uri": "https://localhost:8080/"
        },
        "id": "s13kr6JPSnAQ",
        "outputId": "ea3b9924-2b07-4241-bd9f-cb63115cb577"
      },
      "source": [
        "# Tuple\n",
        "this_tuple = (\"Man\", \"women\", \"I don't know\")\n",
        "print(this_tuple)\n",
        "print(this_tuple[2])"
      ],
      "execution_count": null,
      "outputs": [
        {
          "output_type": "stream",
          "text": [
            "('Man', 'women', \"I don't know\")\n",
            "I don't know\n"
          ],
          "name": "stdout"
        }
      ]
    },
    {
      "cell_type": "code",
      "metadata": {
        "colab": {
          "base_uri": "https://localhost:8080/"
        },
        "id": "w2pSdRZnSrB3",
        "outputId": "eccfee9d-69e3-476c-d05a-21a30d680d71"
      },
      "source": [
        "#Set Cannot be accessed ny index due no order\n",
        "this_is_set = {\"Man\", \"women\", \"I don't know\"}\n",
        "print(this_is_set)"
      ],
      "execution_count": null,
      "outputs": [
        {
          "output_type": "stream",
          "text": [
            "{'women', \"I don't know\", 'Man'}\n"
          ],
          "name": "stdout"
        }
      ]
    },
    {
      "cell_type": "code",
      "metadata": {
        "colab": {
          "base_uri": "https://localhost:8080/"
        },
        "id": "L9pBu9wjVPC9",
        "outputId": "ef83889d-19aa-4e8a-dded-c0dfc8952e8c"
      },
      "source": [
        "# Dictionary\n",
        "this_is_dictionary = {\n",
        "    \"Gender\": \"Man\",\n",
        "    \"Gender2\": \"women\",\n",
        "    \"Gender3\": \"I don't know\"\n",
        "}\n",
        "\n",
        "print(this_is_dictionary[\"Gender\"])"
      ],
      "execution_count": null,
      "outputs": [
        {
          "output_type": "stream",
          "text": [
            "Man\n"
          ],
          "name": "stdout"
        }
      ]
    },
    {
      "cell_type": "code",
      "metadata": {
        "colab": {
          "base_uri": "https://localhost:8080/"
        },
        "id": "6YdM56S3WuYw",
        "outputId": "b926272f-53ec-4c3a-cc32-1191bcf3b93e"
      },
      "source": [
        "#  Lists\n",
        "my_list = [\"Mario\", \"Camando\", \"rambo\"]\n",
        "print(my_list)\n",
        "print(my_list[1])\n",
        "print(my_list[-1])\n",
        "print(my_list[0])\n",
        "# For loop in list\n",
        "for i in my_list[0:3]:\n",
        "    print(i)\n",
        "    # if else from list\n",
        "if \"Mario\" in my_list:\n",
        "    print(\"true\")\n",
        "    # if want to change the number in the list\n",
        "my_list[1] = \"Not sure\"\n",
        "print(my_list)\n",
        "# if want to add new Keywords \n",
        "my_list.append(\"Game boy\")\n",
        "print(my_list)\n",
        "# for Loop to print all the values in the list\n",
        "for x in my_list:\n",
        "    print(x)"
      ],
      "execution_count": null,
      "outputs": [
        {
          "output_type": "stream",
          "text": [
            "['Mario', 'Camando', 'rambo']\n",
            "Camando\n",
            "rambo\n",
            "Mario\n",
            "Mario\n",
            "Camando\n",
            "rambo\n",
            "true\n",
            "['Mario', 'Not sure', 'rambo']\n",
            "['Mario', 'Not sure', 'rambo', 'Game boy']\n",
            "Mario\n",
            "Not sure\n",
            "rambo\n",
            "Game boy\n"
          ],
          "name": "stdout"
        }
      ]
    },
    {
      "cell_type": "markdown",
      "metadata": {
        "id": "dU4b-nq0eEj3"
      },
      "source": [
        "For, while Python loops\n"
      ]
    },
    {
      "cell_type": "code",
      "metadata": {
        "colab": {
          "base_uri": "https://localhost:8080/"
        },
        "id": "fHZXV-bmeKrb",
        "outputId": "26700dee-3bf7-429d-ef97-362ed59c9c8a"
      },
      "source": [
        "# Basic example of While loop\n",
        "g = 0\n",
        "while g < 5:\n",
        "    print(g)\n",
        "    g += 1\n",
        "# For Loop condition used in the \n",
        "my_string = \"alpen adria University\"\n",
        "for x in my_string:\n",
        "    print(x)"
      ],
      "execution_count": null,
      "outputs": [
        {
          "output_type": "stream",
          "text": [
            "0\n",
            "1\n",
            "2\n",
            "3\n",
            "4\n",
            "a\n",
            "l\n",
            "p\n",
            "e\n",
            "n\n",
            " \n",
            "a\n",
            "d\n",
            "r\n",
            "i\n",
            "a\n",
            " \n",
            "U\n",
            "n\n",
            "i\n",
            "v\n",
            "e\n",
            "r\n",
            "s\n",
            "i\n",
            "t\n",
            "y\n"
          ],
          "name": "stdout"
        }
      ]
    },
    {
      "cell_type": "markdown",
      "metadata": {
        "id": "gr3GBPHWgHGT"
      },
      "source": [
        "#Casting in python Means changing the variable type\n"
      ]
    },
    {
      "cell_type": "code",
      "metadata": {
        "colab": {
          "base_uri": "https://localhost:8080/"
        },
        "id": "PRNV8yt3gNCJ",
        "outputId": "0d2ab6cb-5ae8-4325-aae8-72219ebcea2c"
      },
      "source": [
        "string_number = \"3\"\n",
        "string_number = int(string_number) + 1\n",
        "print(string_number)\n",
        "\n",
        "# concatination with string and int\n",
        "string_log = \"LOG:\"\n",
        "x = 5\n",
        "print(string_log + str(x))"
      ],
      "execution_count": null,
      "outputs": [
        {
          "output_type": "stream",
          "text": [
            "4\n",
            "LOG:5\n"
          ],
          "name": "stdout"
        }
      ]
    },
    {
      "cell_type": "markdown",
      "metadata": {
        "id": "prY9q1U4ntu6"
      },
      "source": [
        "# python Function"
      ]
    },
    {
      "cell_type": "code",
      "metadata": {
        "colab": {
          "base_uri": "https://localhost:8080/"
        },
        "id": "NX5XZE7wnwxy",
        "outputId": "a3542196-85a6-4efb-ef0d-6092b37e1720"
      },
      "source": [
        "# Function addition with parameter\n",
        "def addition(a,b):\n",
        "    c = a + b\n",
        "    print(c)\n",
        "addition(3,2)"
      ],
      "execution_count": null,
      "outputs": [
        {
          "output_type": "stream",
          "text": [
            "5\n"
          ],
          "name": "stdout"
        }
      ]
    },
    {
      "cell_type": "markdown",
      "metadata": {
        "id": "ENaQbGCNuwTg"
      },
      "source": [
        "# Pythong Functions"
      ]
    },
    {
      "cell_type": "code",
      "metadata": {
        "colab": {
          "base_uri": "https://localhost:8080/"
        },
        "id": "z764C7lQuvvQ",
        "outputId": "1bc9e65c-65b1-4f99-9aa6-5ffcd80b00ca"
      },
      "source": [
        "import datetime\n",
        "print(datetime.datetime.now())"
      ],
      "execution_count": null,
      "outputs": [
        {
          "output_type": "stream",
          "text": [
            "2021-04-03 17:17:09.207677\n"
          ],
          "name": "stdout"
        }
      ]
    },
    {
      "cell_type": "markdown",
      "metadata": {
        "id": "Gd0SS1ow6UFf"
      },
      "source": [
        "#Adding a Calander"
      ]
    },
    {
      "cell_type": "code",
      "metadata": {
        "id": "nbYSozeW6fIe"
      },
      "source": [
        "import calendar\n",
        "tc = calendar.TextCalender"
      ],
      "execution_count": null,
      "outputs": []
    }
  ]
}